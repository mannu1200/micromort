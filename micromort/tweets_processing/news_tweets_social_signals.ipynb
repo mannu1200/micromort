{
 "cells": [
  {
   "cell_type": "code",
   "execution_count": 1,
   "metadata": {},
   "outputs": [],
   "source": [
    "from micromort.data_stores.mongodb import getConnection\n",
    "from micromort.share_metrics.shares_getter import SharesGetter"
   ]
  },
  {
   "cell_type": "code",
   "execution_count": 2,
   "metadata": {},
   "outputs": [],
   "source": [
    "mongo_db_name = \"micromort\"\n",
    "mongo_collection_name = \"newstweets_categorized_news\"\n",
    "mongoClient = getConnection(mongo_db_name, mongo_collection_name)"
   ]
  },
  {
   "cell_type": "code",
   "execution_count": 3,
   "metadata": {},
   "outputs": [],
   "source": [
    "def storeInMongo(collection,  url, field, value):\n",
    "    collection.update({ \"url\"  : url} , {\"$set\" : { \"social_signals.\" + field : value  } },  True)"
   ]
  },
  {
   "cell_type": "code",
   "execution_count": 4,
   "metadata": {},
   "outputs": [],
   "source": [
    "sharegetter = SharesGetter()"
   ]
  },
  {
   "cell_type": "code",
   "execution_count": 5,
   "metadata": {},
   "outputs": [
    {
     "name": "stderr",
     "output_type": "stream",
     "text": [
      "/usr/local/lib/python2.7/dist-packages/ipykernel_launcher.py:2: DeprecationWarning: update is deprecated. Use replace_one, update_one or update_many instead.\n",
      "  \n"
     ]
    },
    {
     "name": "stdout",
     "output_type": "stream",
     "text": [
      "1000\n",
      "2000\n",
      "3000\n",
      "4000\n",
      "5000\n",
      "6000\n"
     ]
    },
    {
     "name": "stderr",
     "output_type": "stream",
     "text": [
      "ERROR:micromort.utils.logger:<Response [404]>\n",
      "ERROR:micromort.utils.logger:<Response [404]>\n"
     ]
    },
    {
     "name": "stdout",
     "output_type": "stream",
     "text": [
      "7000\n",
      "8000\n",
      "9000\n",
      "10000\n",
      "11000\n",
      "12000\n",
      "13000\n"
     ]
    },
    {
     "name": "stderr",
     "output_type": "stream",
     "text": [
      "ERROR:micromort.utils.logger:<Response [404]>\n"
     ]
    },
    {
     "name": "stdout",
     "output_type": "stream",
     "text": [
      "14000\n",
      "15000\n"
     ]
    },
    {
     "name": "stderr",
     "output_type": "stream",
     "text": [
      "ERROR:micromort.utils.logger:<Response [404]>\n"
     ]
    },
    {
     "name": "stdout",
     "output_type": "stream",
     "text": [
      "16000\n",
      "17000\n",
      "18000\n",
      "19000\n",
      "20000\n",
      "21000\n",
      "22000\n"
     ]
    },
    {
     "name": "stderr",
     "output_type": "stream",
     "text": [
      "ERROR:micromort.utils.logger:<Response [404]>\n"
     ]
    },
    {
     "name": "stdout",
     "output_type": "stream",
     "text": [
      "23000\n"
     ]
    },
    {
     "name": "stderr",
     "output_type": "stream",
     "text": [
      "ERROR:micromort.utils.logger:<Response [400]>\n"
     ]
    },
    {
     "name": "stdout",
     "output_type": "stream",
     "text": [
      "24000\n",
      "25000\n",
      "26000\n",
      "27000\n"
     ]
    },
    {
     "name": "stderr",
     "output_type": "stream",
     "text": [
      "ERROR:micromort.utils.logger:<Response [400]>\n"
     ]
    },
    {
     "name": "stdout",
     "output_type": "stream",
     "text": [
      "28000\n"
     ]
    },
    {
     "name": "stderr",
     "output_type": "stream",
     "text": [
      "ERROR:micromort.utils.logger:<Response [400]>\n"
     ]
    },
    {
     "name": "stdout",
     "output_type": "stream",
     "text": [
      "29000\n",
      "30000\n"
     ]
    },
    {
     "name": "stderr",
     "output_type": "stream",
     "text": [
      "ERROR:micromort.utils.logger:<Response [404]>\n"
     ]
    },
    {
     "name": "stdout",
     "output_type": "stream",
     "text": [
      "31000\n"
     ]
    },
    {
     "name": "stderr",
     "output_type": "stream",
     "text": [
      "ERROR:micromort.utils.logger:<Response [404]>\n"
     ]
    },
    {
     "name": "stdout",
     "output_type": "stream",
     "text": [
      "32000\n",
      "33000\n",
      "34000\n",
      "35000\n",
      "36000\n"
     ]
    },
    {
     "name": "stderr",
     "output_type": "stream",
     "text": [
      "ERROR:micromort.utils.logger:<Response [404]>\n",
      "ERROR:micromort.utils.logger:<Response [400]>\n"
     ]
    },
    {
     "name": "stdout",
     "output_type": "stream",
     "text": [
      "37000\n",
      "38000\n",
      "39000\n"
     ]
    },
    {
     "name": "stderr",
     "output_type": "stream",
     "text": [
      "ERROR:micromort.utils.logger:<Response [404]>\n",
      "ERROR:micromort.utils.logger:<Response [404]>\n",
      "ERROR:micromort.utils.logger:<Response [404]>\n",
      "ERROR:micromort.utils.logger:<Response [404]>\n"
     ]
    },
    {
     "name": "stdout",
     "output_type": "stream",
     "text": [
      "40000\n",
      "41000\n",
      "42000\n",
      "43000\n"
     ]
    },
    {
     "name": "stderr",
     "output_type": "stream",
     "text": [
      "ERROR:micromort.utils.logger:<Response [400]>\n"
     ]
    },
    {
     "name": "stdout",
     "output_type": "stream",
     "text": [
      "44000\n",
      "45000\n",
      "46000\n",
      "47000\n"
     ]
    },
    {
     "name": "stderr",
     "output_type": "stream",
     "text": [
      "ERROR:micromort.utils.logger:<Response [400]>\n"
     ]
    },
    {
     "name": "stdout",
     "output_type": "stream",
     "text": [
      "48000\n",
      "49000\n"
     ]
    },
    {
     "name": "stderr",
     "output_type": "stream",
     "text": [
      "ERROR:micromort.utils.logger:<Response [404]>\n"
     ]
    },
    {
     "name": "stdout",
     "output_type": "stream",
     "text": [
      "50000\n",
      "51000\n",
      "52000\n",
      "53000\n",
      "54000\n",
      "55000\n",
      "56000\n",
      "57000\n",
      "58000\n"
     ]
    },
    {
     "name": "stderr",
     "output_type": "stream",
     "text": [
      "ERROR:micromort.utils.logger:<Response [404]>\n"
     ]
    },
    {
     "name": "stdout",
     "output_type": "stream",
     "text": [
      "59000\n",
      "60000\n",
      "61000\n"
     ]
    },
    {
     "name": "stderr",
     "output_type": "stream",
     "text": [
      "ERROR:micromort.utils.logger:<Response [400]>\n",
      "ERROR:micromort.utils.logger:<Response [400]>\n"
     ]
    },
    {
     "name": "stdout",
     "output_type": "stream",
     "text": [
      "62000\n"
     ]
    },
    {
     "name": "stderr",
     "output_type": "stream",
     "text": [
      "ERROR:micromort.utils.logger:<Response [404]>\n"
     ]
    },
    {
     "name": "stdout",
     "output_type": "stream",
     "text": [
      "63000\n"
     ]
    },
    {
     "name": "stderr",
     "output_type": "stream",
     "text": [
      "ERROR:micromort.utils.logger:<Response [404]>\n"
     ]
    },
    {
     "name": "stdout",
     "output_type": "stream",
     "text": [
      "64000\n",
      "65000\n",
      "66000\n",
      "67000\n",
      "68000\n",
      "69000\n",
      "70000\n",
      "71000\n",
      "72000\n",
      "73000\n",
      "74000\n",
      "75000\n"
     ]
    },
    {
     "name": "stderr",
     "output_type": "stream",
     "text": [
      "ERROR:micromort.utils.logger:<Response [404]>\n"
     ]
    },
    {
     "name": "stdout",
     "output_type": "stream",
     "text": [
      "76000\n",
      "77000\n",
      "78000\n"
     ]
    },
    {
     "name": "stderr",
     "output_type": "stream",
     "text": [
      "ERROR:micromort.utils.logger:<Response [404]>\n"
     ]
    },
    {
     "name": "stdout",
     "output_type": "stream",
     "text": [
      "79000\n"
     ]
    },
    {
     "name": "stderr",
     "output_type": "stream",
     "text": [
      "ERROR:micromort.utils.logger:<Response [400]>\n"
     ]
    },
    {
     "name": "stdout",
     "output_type": "stream",
     "text": [
      "80000\n",
      "81000\n"
     ]
    },
    {
     "name": "stderr",
     "output_type": "stream",
     "text": [
      "ERROR:micromort.utils.logger:<Response [400]>\n",
      "ERROR:micromort.utils.logger:<Response [400]>\n",
      "ERROR:micromort.utils.logger:<Response [400]>\n",
      "ERROR:micromort.utils.logger:<Response [400]>\n",
      "ERROR:micromort.utils.logger:<Response [400]>\n",
      "ERROR:micromort.utils.logger:<Response [400]>\n",
      "ERROR:micromort.utils.logger:<Response [400]>\n",
      "ERROR:micromort.utils.logger:<Response [404]>\n",
      "ERROR:micromort.utils.logger:<Response [404]>\n",
      "ERROR:micromort.utils.logger:<Response [404]>\n",
      "ERROR:micromort.utils.logger:<Response [404]>\n",
      "ERROR:micromort.utils.logger:<Response [404]>\n",
      "ERROR:micromort.utils.logger:<Response [404]>\n",
      "ERROR:micromort.utils.logger:<Response [404]>\n",
      "ERROR:micromort.utils.logger:<Response [404]>\n",
      "ERROR:micromort.utils.logger:<Response [404]>\n",
      "ERROR:micromort.utils.logger:<Response [404]>\n",
      "ERROR:micromort.utils.logger:<Response [404]>\n",
      "ERROR:micromort.utils.logger:<Response [404]>\n",
      "ERROR:micromort.utils.logger:<Response [404]>\n",
      "ERROR:micromort.utils.logger:<Response [400]>\n",
      "ERROR:micromort.utils.logger:<Response [400]>\n",
      "ERROR:micromort.utils.logger:<Response [400]>\n"
     ]
    },
    {
     "name": "stdout",
     "output_type": "stream",
     "text": [
      "83000\n",
      "84000\n"
     ]
    },
    {
     "name": "stderr",
     "output_type": "stream",
     "text": [
      "ERROR:micromort.utils.logger:<Response [404]>\n"
     ]
    },
    {
     "name": "stdout",
     "output_type": "stream",
     "text": [
      "85000\n",
      "86000\n",
      "87000\n",
      "88000\n",
      "89000\n"
     ]
    },
    {
     "name": "stderr",
     "output_type": "stream",
     "text": [
      "ERROR:micromort.utils.logger:<Response [404]>\n",
      "ERROR:micromort.utils.logger:<Response [404]>\n"
     ]
    },
    {
     "name": "stdout",
     "output_type": "stream",
     "text": [
      "90000\n"
     ]
    },
    {
     "name": "stderr",
     "output_type": "stream",
     "text": [
      "ERROR:micromort.utils.logger:<Response [404]>\n"
     ]
    },
    {
     "name": "stdout",
     "output_type": "stream",
     "text": [
      "91000\n"
     ]
    },
    {
     "name": "stderr",
     "output_type": "stream",
     "text": [
      "ERROR:micromort.utils.logger:<Response [404]>\n"
     ]
    },
    {
     "name": "stdout",
     "output_type": "stream",
     "text": [
      "92000\n",
      "93000\n",
      "94000\n"
     ]
    },
    {
     "name": "stderr",
     "output_type": "stream",
     "text": [
      "ERROR:micromort.utils.logger:<Response [404]>\n",
      "ERROR:micromort.utils.logger:<Response [404]>\n"
     ]
    },
    {
     "name": "stdout",
     "output_type": "stream",
     "text": [
      "96000\n"
     ]
    },
    {
     "name": "stderr",
     "output_type": "stream",
     "text": [
      "ERROR:micromort.utils.logger:<Response [404]>\n"
     ]
    },
    {
     "name": "stdout",
     "output_type": "stream",
     "text": [
      "97000\n",
      "98000\n"
     ]
    },
    {
     "name": "stderr",
     "output_type": "stream",
     "text": [
      "ERROR:micromort.utils.logger:<Response [400]>\n"
     ]
    },
    {
     "name": "stdout",
     "output_type": "stream",
     "text": [
      "99000\n",
      "100000\n"
     ]
    },
    {
     "name": "stderr",
     "output_type": "stream",
     "text": [
      "ERROR:micromort.utils.logger:<Response [404]>\n"
     ]
    },
    {
     "name": "stdout",
     "output_type": "stream",
     "text": [
      "101000\n",
      "102000\n",
      "103000\n"
     ]
    },
    {
     "name": "stderr",
     "output_type": "stream",
     "text": [
      "ERROR:micromort.utils.logger:<Response [404]>\n"
     ]
    },
    {
     "name": "stdout",
     "output_type": "stream",
     "text": [
      "104000\n"
     ]
    },
    {
     "name": "stderr",
     "output_type": "stream",
     "text": [
      "ERROR:micromort.utils.logger:<Response [400]>\n",
      "ERROR:micromort.utils.logger:<Response [400]>\n"
     ]
    },
    {
     "name": "stdout",
     "output_type": "stream",
     "text": [
      "105000\n"
     ]
    },
    {
     "name": "stderr",
     "output_type": "stream",
     "text": [
      "ERROR:micromort.utils.logger:<Response [400]>\n"
     ]
    },
    {
     "name": "stdout",
     "output_type": "stream",
     "text": [
      "106000\n"
     ]
    },
    {
     "name": "stderr",
     "output_type": "stream",
     "text": [
      "ERROR:micromort.utils.logger:<Response [400]>\n",
      "ERROR:micromort.utils.logger:<Response [400]>\n",
      "ERROR:micromort.utils.logger:<Response [400]>\n"
     ]
    },
    {
     "name": "stdout",
     "output_type": "stream",
     "text": [
      "107000\n"
     ]
    },
    {
     "name": "stderr",
     "output_type": "stream",
     "text": [
      "ERROR:micromort.utils.logger:<Response [400]>\n",
      "ERROR:micromort.utils.logger:<Response [400]>\n",
      "ERROR:micromort.utils.logger:<Response [400]>\n",
      "ERROR:micromort.utils.logger:<Response [400]>\n"
     ]
    },
    {
     "name": "stdout",
     "output_type": "stream",
     "text": [
      "108000\n"
     ]
    },
    {
     "name": "stderr",
     "output_type": "stream",
     "text": [
      "ERROR:micromort.utils.logger:<Response [400]>\n",
      "ERROR:micromort.utils.logger:<Response [400]>\n",
      "ERROR:micromort.utils.logger:<Response [404]>\n",
      "ERROR:micromort.utils.logger:<Response [400]>\n"
     ]
    },
    {
     "name": "stdout",
     "output_type": "stream",
     "text": [
      "109000\n"
     ]
    },
    {
     "name": "stderr",
     "output_type": "stream",
     "text": [
      "ERROR:micromort.utils.logger:<Response [400]>\n",
      "ERROR:micromort.utils.logger:<Response [400]>\n",
      "ERROR:micromort.utils.logger:<Response [400]>\n",
      "ERROR:micromort.utils.logger:<Response [400]>\n",
      "ERROR:micromort.utils.logger:<Response [400]>\n",
      "ERROR:micromort.utils.logger:<Response [400]>\n",
      "ERROR:micromort.utils.logger:<Response [400]>\n",
      "ERROR:micromort.utils.logger:<Response [400]>\n",
      "ERROR:micromort.utils.logger:<Response [400]>\n"
     ]
    },
    {
     "name": "stdout",
     "output_type": "stream",
     "text": [
      "111000\n"
     ]
    },
    {
     "name": "stderr",
     "output_type": "stream",
     "text": [
      "ERROR:micromort.utils.logger:<Response [400]>\n",
      "ERROR:micromort.utils.logger:<Response [400]>\n",
      "ERROR:micromort.utils.logger:<Response [400]>\n"
     ]
    },
    {
     "name": "stdout",
     "output_type": "stream",
     "text": [
      "112000\n"
     ]
    },
    {
     "name": "stderr",
     "output_type": "stream",
     "text": [
      "ERROR:micromort.utils.logger:<Response [400]>\n",
      "ERROR:micromort.utils.logger:<Response [400]>\n",
      "ERROR:micromort.utils.logger:<Response [400]>\n"
     ]
    },
    {
     "name": "stdout",
     "output_type": "stream",
     "text": [
      "113000\n"
     ]
    },
    {
     "name": "stderr",
     "output_type": "stream",
     "text": [
      "ERROR:micromort.utils.logger:<Response [400]>\n",
      "ERROR:micromort.utils.logger:<Response [400]>\n",
      "ERROR:micromort.utils.logger:<Response [404]>\n",
      "ERROR:micromort.utils.logger:<Response [404]>\n"
     ]
    },
    {
     "name": "stdout",
     "output_type": "stream",
     "text": [
      "114000\n",
      "115000\n"
     ]
    },
    {
     "name": "stderr",
     "output_type": "stream",
     "text": [
      "ERROR:micromort.utils.logger:<Response [400]>\n",
      "ERROR:micromort.utils.logger:<Response [400]>\n",
      "ERROR:micromort.utils.logger:<Response [400]>\n",
      "ERROR:micromort.utils.logger:<Response [400]>\n"
     ]
    },
    {
     "name": "stdout",
     "output_type": "stream",
     "text": [
      "116000\n"
     ]
    },
    {
     "name": "stderr",
     "output_type": "stream",
     "text": [
      "ERROR:micromort.utils.logger:<Response [400]>\n",
      "ERROR:micromort.utils.logger:<Response [404]>\n",
      "ERROR:micromort.utils.logger:<Response [400]>\n"
     ]
    },
    {
     "name": "stdout",
     "output_type": "stream",
     "text": [
      "117000\n",
      "118000\n"
     ]
    },
    {
     "name": "stderr",
     "output_type": "stream",
     "text": [
      "ERROR:micromort.utils.logger:<Response [400]>\n",
      "ERROR:micromort.utils.logger:<Response [400]>\n",
      "ERROR:micromort.utils.logger:<Response [400]>\n",
      "ERROR:micromort.utils.logger:<Response [400]>\n",
      "ERROR:micromort.utils.logger:<Response [400]>\n"
     ]
    },
    {
     "name": "stdout",
     "output_type": "stream",
     "text": [
      "119000\n"
     ]
    },
    {
     "name": "stderr",
     "output_type": "stream",
     "text": [
      "ERROR:micromort.utils.logger:<Response [400]>\n",
      "ERROR:micromort.utils.logger:<Response [400]>\n"
     ]
    },
    {
     "name": "stdout",
     "output_type": "stream",
     "text": [
      "120000\n"
     ]
    },
    {
     "name": "stderr",
     "output_type": "stream",
     "text": [
      "ERROR:micromort.utils.logger:<Response [400]>\n",
      "ERROR:micromort.utils.logger:<Response [400]>\n",
      "ERROR:micromort.utils.logger:<Response [400]>\n",
      "ERROR:micromort.utils.logger:<Response [400]>\n",
      "ERROR:micromort.utils.logger:<Response [400]>\n",
      "ERROR:micromort.utils.logger:<Response [400]>\n",
      "ERROR:micromort.utils.logger:<Response [400]>\n"
     ]
    },
    {
     "name": "stdout",
     "output_type": "stream",
     "text": [
      "122000\n"
     ]
    },
    {
     "name": "stderr",
     "output_type": "stream",
     "text": [
      "ERROR:micromort.utils.logger:<Response [400]>\n"
     ]
    },
    {
     "name": "stdout",
     "output_type": "stream",
     "text": [
      "123000\n"
     ]
    },
    {
     "name": "stderr",
     "output_type": "stream",
     "text": [
      "ERROR:micromort.utils.logger:<Response [404]>\n",
      "ERROR:micromort.utils.logger:<Response [400]>\n",
      "ERROR:micromort.utils.logger:<Response [400]>\n",
      "ERROR:micromort.utils.logger:<Response [400]>\n",
      "ERROR:micromort.utils.logger:<Response [400]>\n"
     ]
    },
    {
     "name": "stdout",
     "output_type": "stream",
     "text": [
      "124000\n",
      "125000\n"
     ]
    },
    {
     "name": "stderr",
     "output_type": "stream",
     "text": [
      "ERROR:micromort.utils.logger:<Response [400]>\n"
     ]
    },
    {
     "name": "stdout",
     "output_type": "stream",
     "text": [
      "126000\n"
     ]
    },
    {
     "name": "stderr",
     "output_type": "stream",
     "text": [
      "ERROR:micromort.utils.logger:<Response [400]>\n",
      "ERROR:micromort.utils.logger:<Response [400]>\n"
     ]
    },
    {
     "name": "stdout",
     "output_type": "stream",
     "text": [
      "127000\n"
     ]
    },
    {
     "name": "stderr",
     "output_type": "stream",
     "text": [
      "ERROR:micromort.utils.logger:<Response [400]>\n",
      "ERROR:micromort.utils.logger:<Response [400]>\n",
      "ERROR:micromort.utils.logger:<Response [400]>\n"
     ]
    },
    {
     "name": "stdout",
     "output_type": "stream",
     "text": [
      "128000\n"
     ]
    },
    {
     "name": "stderr",
     "output_type": "stream",
     "text": [
      "ERROR:micromort.utils.logger:<Response [404]>\n"
     ]
    },
    {
     "name": "stdout",
     "output_type": "stream",
     "text": [
      "129000\n"
     ]
    },
    {
     "name": "stderr",
     "output_type": "stream",
     "text": [
      "ERROR:micromort.utils.logger:<Response [404]>\n",
      "ERROR:micromort.utils.logger:<Response [404]>\n"
     ]
    },
    {
     "name": "stdout",
     "output_type": "stream",
     "text": [
      "130000\n"
     ]
    },
    {
     "name": "stderr",
     "output_type": "stream",
     "text": [
      "ERROR:micromort.utils.logger:<Response [404]>\n"
     ]
    },
    {
     "name": "stdout",
     "output_type": "stream",
     "text": [
      "131000\n"
     ]
    },
    {
     "name": "stderr",
     "output_type": "stream",
     "text": [
      "ERROR:micromort.utils.logger:<Response [404]>\n"
     ]
    },
    {
     "name": "stdout",
     "output_type": "stream",
     "text": [
      "132000\n",
      "133000\n",
      "134000\n",
      "135000\n",
      "136000\n",
      "137000\n"
     ]
    },
    {
     "name": "stderr",
     "output_type": "stream",
     "text": [
      "ERROR:micromort.utils.logger:<Response [404]>\n"
     ]
    },
    {
     "name": "stdout",
     "output_type": "stream",
     "text": [
      "138000\n"
     ]
    },
    {
     "name": "stderr",
     "output_type": "stream",
     "text": [
      "ERROR:micromort.utils.logger:<Response [404]>\n"
     ]
    },
    {
     "name": "stdout",
     "output_type": "stream",
     "text": [
      "139000\n"
     ]
    },
    {
     "name": "stderr",
     "output_type": "stream",
     "text": [
      "ERROR:micromort.utils.logger:<Response [404]>\n"
     ]
    },
    {
     "name": "stdout",
     "output_type": "stream",
     "text": [
      "140000\n",
      "141000\n",
      "142000\n",
      "143000\n"
     ]
    },
    {
     "name": "stderr",
     "output_type": "stream",
     "text": [
      "ERROR:micromort.utils.logger:<Response [404]>\n",
      "ERROR:micromort.utils.logger:<Response [404]>\n",
      "ERROR:micromort.utils.logger:<Response [404]>\n",
      "ERROR:micromort.utils.logger:<Response [404]>\n",
      "ERROR:micromort.utils.logger:<Response [404]>\n",
      "ERROR:micromort.utils.logger:<Response [404]>\n",
      "ERROR:micromort.utils.logger:<Response [404]>\n"
     ]
    },
    {
     "name": "stdout",
     "output_type": "stream",
     "text": [
      "144000\n"
     ]
    },
    {
     "name": "stderr",
     "output_type": "stream",
     "text": [
      "ERROR:micromort.utils.logger:<Response [404]>\n"
     ]
    },
    {
     "name": "stdout",
     "output_type": "stream",
     "text": [
      "145000\n",
      "146000\n",
      "147000\n"
     ]
    },
    {
     "name": "stderr",
     "output_type": "stream",
     "text": [
      "ERROR:micromort.utils.logger:<Response [404]>\n"
     ]
    },
    {
     "name": "stdout",
     "output_type": "stream",
     "text": [
      "148000\n",
      "149000\n",
      "150000\n"
     ]
    },
    {
     "name": "stderr",
     "output_type": "stream",
     "text": [
      "ERROR:micromort.utils.logger:<Response [400]>\n",
      "ERROR:micromort.utils.logger:<Response [400]>\n"
     ]
    },
    {
     "name": "stdout",
     "output_type": "stream",
     "text": [
      "151000\n",
      "152000\n",
      "153000\n"
     ]
    },
    {
     "name": "stderr",
     "output_type": "stream",
     "text": [
      "ERROR:micromort.utils.logger:<Response [404]>\n",
      "ERROR:micromort.utils.logger:<Response [400]>\n"
     ]
    },
    {
     "name": "stdout",
     "output_type": "stream",
     "text": [
      "154000\n",
      "155000\n",
      "156000\n"
     ]
    },
    {
     "name": "stderr",
     "output_type": "stream",
     "text": [
      "ERROR:micromort.utils.logger:<Response [404]>\n"
     ]
    },
    {
     "name": "stdout",
     "output_type": "stream",
     "text": [
      "157000\n",
      "158000\n"
     ]
    },
    {
     "name": "stderr",
     "output_type": "stream",
     "text": [
      "ERROR:micromort.utils.logger:<Response [404]>\n"
     ]
    },
    {
     "name": "stdout",
     "output_type": "stream",
     "text": [
      "159000\n"
     ]
    },
    {
     "name": "stderr",
     "output_type": "stream",
     "text": [
      "ERROR:micromort.utils.logger:<Response [400]>\n",
      "ERROR:micromort.utils.logger:<Response [400]>\n"
     ]
    },
    {
     "name": "stdout",
     "output_type": "stream",
     "text": [
      "160000\n",
      "161000\n"
     ]
    },
    {
     "name": "stderr",
     "output_type": "stream",
     "text": [
      "ERROR:micromort.utils.logger:<Response [400]>\n",
      "ERROR:micromort.utils.logger:<Response [404]>\n"
     ]
    },
    {
     "name": "stdout",
     "output_type": "stream",
     "text": [
      "162000\n",
      "163000\n"
     ]
    },
    {
     "name": "stderr",
     "output_type": "stream",
     "text": [
      "ERROR:micromort.utils.logger:<Response [404]>\n"
     ]
    },
    {
     "name": "stdout",
     "output_type": "stream",
     "text": [
      "165000\n",
      "166000\n",
      "167000\n",
      "168000\n",
      "169000\n"
     ]
    },
    {
     "name": "stderr",
     "output_type": "stream",
     "text": [
      "ERROR:micromort.utils.logger:<Response [404]>\n"
     ]
    },
    {
     "name": "stdout",
     "output_type": "stream",
     "text": [
      "170000\n",
      "171000\n",
      "172000\n"
     ]
    },
    {
     "name": "stderr",
     "output_type": "stream",
     "text": [
      "ERROR:micromort.utils.logger:<Response [404]>\n"
     ]
    },
    {
     "name": "stdout",
     "output_type": "stream",
     "text": [
      "173000\n",
      "174000\n",
      "175000\n",
      "176000\n"
     ]
    },
    {
     "name": "stderr",
     "output_type": "stream",
     "text": [
      "ERROR:micromort.utils.logger:<Response [404]>\n",
      "ERROR:micromort.utils.logger:<Response [404]>\n"
     ]
    },
    {
     "name": "stdout",
     "output_type": "stream",
     "text": [
      "177000\n",
      "178000\n",
      "179000\n",
      "180000\n",
      "181000\n"
     ]
    },
    {
     "name": "stderr",
     "output_type": "stream",
     "text": [
      "ERROR:micromort.utils.logger:<Response [404]>\n"
     ]
    },
    {
     "name": "stdout",
     "output_type": "stream",
     "text": [
      "182000\n",
      "183000\n",
      "184000\n",
      "185000\n",
      "186000\n",
      "187000\n",
      "188000\n",
      "189000\n"
     ]
    },
    {
     "name": "stderr",
     "output_type": "stream",
     "text": [
      "ERROR:micromort.utils.logger:<Response [404]>\n"
     ]
    },
    {
     "name": "stdout",
     "output_type": "stream",
     "text": [
      "190000\n",
      "191000\n"
     ]
    },
    {
     "name": "stderr",
     "output_type": "stream",
     "text": [
      "ERROR:micromort.utils.logger:<Response [404]>\n"
     ]
    },
    {
     "name": "stdout",
     "output_type": "stream",
     "text": [
      "192000\n",
      "193000\n",
      "194000\n"
     ]
    },
    {
     "name": "stderr",
     "output_type": "stream",
     "text": [
      "ERROR:micromort.utils.logger:<Response [404]>\n"
     ]
    },
    {
     "name": "stdout",
     "output_type": "stream",
     "text": [
      "195000\n",
      "196000\n"
     ]
    },
    {
     "name": "stderr",
     "output_type": "stream",
     "text": [
      "ERROR:micromort.utils.logger:<Response [404]>\n"
     ]
    },
    {
     "name": "stdout",
     "output_type": "stream",
     "text": [
      "197000\n",
      "198000\n"
     ]
    },
    {
     "name": "stderr",
     "output_type": "stream",
     "text": [
      "ERROR:micromort.utils.logger:<Response [404]>\n"
     ]
    },
    {
     "name": "stdout",
     "output_type": "stream",
     "text": [
      "200000\n",
      "201000\n"
     ]
    },
    {
     "name": "stderr",
     "output_type": "stream",
     "text": [
      "ERROR:micromort.utils.logger:<Response [400]>\n",
      "ERROR:micromort.utils.logger:<Response [400]>\n",
      "ERROR:micromort.utils.logger:<Response [404]>\n"
     ]
    },
    {
     "name": "stdout",
     "output_type": "stream",
     "text": [
      "202000\n",
      "203000\n",
      "204000\n",
      "205000\n",
      "206000\n",
      "207000\n",
      "208000\n",
      "209000\n",
      "210000\n",
      "211000\n",
      "212000\n"
     ]
    },
    {
     "name": "stderr",
     "output_type": "stream",
     "text": [
      "ERROR:micromort.utils.logger:<Response [404]>\n",
      "ERROR:micromort.utils.logger:<Response [404]>\n",
      "ERROR:micromort.utils.logger:<Response [404]>\n"
     ]
    },
    {
     "name": "stdout",
     "output_type": "stream",
     "text": [
      "214000\n"
     ]
    },
    {
     "name": "stderr",
     "output_type": "stream",
     "text": [
      "ERROR:micromort.utils.logger:<Response [404]>\n"
     ]
    },
    {
     "name": "stdout",
     "output_type": "stream",
     "text": [
      "215000\n"
     ]
    },
    {
     "name": "stderr",
     "output_type": "stream",
     "text": [
      "ERROR:micromort.utils.logger:<Response [404]>\n"
     ]
    },
    {
     "name": "stdout",
     "output_type": "stream",
     "text": [
      "216000\n"
     ]
    },
    {
     "name": "stderr",
     "output_type": "stream",
     "text": [
      "ERROR:micromort.utils.logger:<Response [400]>\n"
     ]
    },
    {
     "name": "stdout",
     "output_type": "stream",
     "text": [
      "217000\n",
      "218000\n"
     ]
    },
    {
     "name": "stderr",
     "output_type": "stream",
     "text": [
      "ERROR:micromort.utils.logger:<Response [404]>\n"
     ]
    },
    {
     "name": "stdout",
     "output_type": "stream",
     "text": [
      "219000\n",
      "220000\n"
     ]
    },
    {
     "name": "stderr",
     "output_type": "stream",
     "text": [
      "ERROR:micromort.utils.logger:<Response [400]>\n",
      "ERROR:micromort.utils.logger:<Response [400]>\n",
      "ERROR:micromort.utils.logger:<Response [400]>\n",
      "ERROR:micromort.utils.logger:<Response [400]>\n",
      "ERROR:micromort.utils.logger:<Response [400]>\n",
      "ERROR:micromort.utils.logger:<Response [404]>\n",
      "ERROR:micromort.utils.logger:<Response [404]>\n"
     ]
    },
    {
     "name": "stdout",
     "output_type": "stream",
     "text": [
      "221000\n"
     ]
    },
    {
     "name": "stderr",
     "output_type": "stream",
     "text": [
      "ERROR:micromort.utils.logger:<Response [400]>\n"
     ]
    },
    {
     "name": "stdout",
     "output_type": "stream",
     "text": [
      "222000\n"
     ]
    },
    {
     "name": "stderr",
     "output_type": "stream",
     "text": [
      "ERROR:micromort.utils.logger:<Response [404]>\n"
     ]
    },
    {
     "name": "stdout",
     "output_type": "stream",
     "text": [
      "223000\n",
      "224000\n"
     ]
    },
    {
     "name": "stderr",
     "output_type": "stream",
     "text": [
      "ERROR:micromort.utils.logger:<Response [404]>\n"
     ]
    },
    {
     "name": "stdout",
     "output_type": "stream",
     "text": [
      "225000\n",
      "226000\n",
      "227000\n",
      "228000\n",
      "229000\n",
      "230000\n",
      "231000\n",
      "232000\n",
      "233000\n",
      "234000\n",
      "235000\n"
     ]
    },
    {
     "name": "stderr",
     "output_type": "stream",
     "text": [
      "ERROR:micromort.utils.logger:<Response [404]>\n"
     ]
    },
    {
     "name": "stdout",
     "output_type": "stream",
     "text": [
      "236000\n",
      "237000\n",
      "238000\n"
     ]
    },
    {
     "name": "stderr",
     "output_type": "stream",
     "text": [
      "ERROR:micromort.utils.logger:<Response [400]>\n"
     ]
    },
    {
     "name": "stdout",
     "output_type": "stream",
     "text": [
      "239000\n",
      "240000\n",
      "241000\n"
     ]
    },
    {
     "name": "stderr",
     "output_type": "stream",
     "text": [
      "ERROR:micromort.utils.logger:<Response [404]>\n",
      "ERROR:micromort.utils.logger:<Response [404]>\n"
     ]
    },
    {
     "name": "stdout",
     "output_type": "stream",
     "text": [
      "242000\n",
      "243000\n",
      "244000\n",
      "245000\n"
     ]
    },
    {
     "name": "stderr",
     "output_type": "stream",
     "text": [
      "ERROR:micromort.utils.logger:<Response [404]>\n",
      "ERROR:micromort.utils.logger:<Response [404]>\n",
      "ERROR:micromort.utils.logger:<Response [404]>\n"
     ]
    },
    {
     "name": "stdout",
     "output_type": "stream",
     "text": [
      "246000\n",
      "247000\n",
      "248000\n"
     ]
    },
    {
     "name": "stderr",
     "output_type": "stream",
     "text": [
      "ERROR:micromort.utils.logger:<Response [404]>\n"
     ]
    },
    {
     "name": "stdout",
     "output_type": "stream",
     "text": [
      "249000\n",
      "250000\n"
     ]
    },
    {
     "name": "stderr",
     "output_type": "stream",
     "text": [
      "ERROR:micromort.utils.logger:<Response [404]>\n"
     ]
    },
    {
     "name": "stdout",
     "output_type": "stream",
     "text": [
      "251000\n",
      "252000\n",
      "253000\n",
      "254000\n"
     ]
    },
    {
     "name": "stderr",
     "output_type": "stream",
     "text": [
      "ERROR:micromort.utils.logger:<Response [404]>\n",
      "ERROR:micromort.utils.logger:<Response [404]>\n",
      "ERROR:micromort.utils.logger:<Response [404]>\n"
     ]
    },
    {
     "name": "stdout",
     "output_type": "stream",
     "text": [
      "255000\n"
     ]
    },
    {
     "name": "stderr",
     "output_type": "stream",
     "text": [
      "ERROR:micromort.utils.logger:<Response [400]>\n",
      "ERROR:micromort.utils.logger:<Response [400]>\n",
      "ERROR:micromort.utils.logger:<Response [400]>\n",
      "ERROR:micromort.utils.logger:<Response [400]>\n",
      "ERROR:micromort.utils.logger:<Response [400]>\n",
      "ERROR:micromort.utils.logger:<Response [400]>\n"
     ]
    },
    {
     "name": "stdout",
     "output_type": "stream",
     "text": [
      "256000\n"
     ]
    },
    {
     "name": "stderr",
     "output_type": "stream",
     "text": [
      "ERROR:micromort.utils.logger:<Response [400]>\n"
     ]
    },
    {
     "name": "stdout",
     "output_type": "stream",
     "text": [
      "257000\n",
      "258000\n",
      "259000\n"
     ]
    },
    {
     "name": "stderr",
     "output_type": "stream",
     "text": [
      "ERROR:micromort.utils.logger:<Response [404]>\n"
     ]
    },
    {
     "name": "stdout",
     "output_type": "stream",
     "text": [
      "260000\n",
      "261000\n",
      "262000\n",
      "263000\n",
      "264000\n",
      "265000\n",
      "266000\n"
     ]
    },
    {
     "name": "stderr",
     "output_type": "stream",
     "text": [
      "ERROR:micromort.utils.logger:<Response [404]>\n"
     ]
    },
    {
     "name": "stdout",
     "output_type": "stream",
     "text": [
      "267000\n",
      "268000\n",
      "269000\n",
      "270000\n",
      "271000\n",
      "272000\n",
      "273000\n",
      "274000\n"
     ]
    },
    {
     "name": "stderr",
     "output_type": "stream",
     "text": [
      "ERROR:micromort.utils.logger:<Response [400]>\n"
     ]
    },
    {
     "name": "stdout",
     "output_type": "stream",
     "text": [
      "275000\n",
      "276000\n"
     ]
    },
    {
     "name": "stderr",
     "output_type": "stream",
     "text": [
      "ERROR:micromort.utils.logger:<Response [404]>\n",
      "ERROR:micromort.utils.logger:<Response [404]>\n",
      "ERROR:micromort.utils.logger:<Response [404]>\n",
      "ERROR:micromort.utils.logger:<Response [404]>\n",
      "ERROR:micromort.utils.logger:<Response [400]>\n",
      "ERROR:micromort.utils.logger:<Response [404]>\n"
     ]
    },
    {
     "name": "stdout",
     "output_type": "stream",
     "text": [
      "277000\n",
      "278000\n"
     ]
    },
    {
     "name": "stderr",
     "output_type": "stream",
     "text": [
      "ERROR:micromort.utils.logger:<Response [404]>\n",
      "ERROR:micromort.utils.logger:<Response [404]>\n",
      "ERROR:micromort.utils.logger:<Response [400]>\n"
     ]
    },
    {
     "name": "stdout",
     "output_type": "stream",
     "text": [
      "279000\n",
      "280000\n",
      "281000\n",
      "282000\n",
      "283000\n",
      "284000\n",
      "285000\n",
      "286000\n"
     ]
    },
    {
     "name": "stderr",
     "output_type": "stream",
     "text": [
      "ERROR:micromort.utils.logger:<Response [400]>\n"
     ]
    },
    {
     "name": "stdout",
     "output_type": "stream",
     "text": [
      "287000\n"
     ]
    },
    {
     "name": "stderr",
     "output_type": "stream",
     "text": [
      "ERROR:micromort.utils.logger:<Response [404]>\n"
     ]
    },
    {
     "name": "stdout",
     "output_type": "stream",
     "text": [
      "288000\n"
     ]
    },
    {
     "name": "stderr",
     "output_type": "stream",
     "text": [
      "ERROR:micromort.utils.logger:<Response [404]>\n"
     ]
    },
    {
     "name": "stdout",
     "output_type": "stream",
     "text": [
      "289000\n"
     ]
    },
    {
     "name": "stderr",
     "output_type": "stream",
     "text": [
      "ERROR:micromort.utils.logger:<Response [404]>\n"
     ]
    },
    {
     "name": "stdout",
     "output_type": "stream",
     "text": [
      "290000\n"
     ]
    },
    {
     "name": "stderr",
     "output_type": "stream",
     "text": [
      "ERROR:micromort.utils.logger:<Response [404]>\n",
      "ERROR:micromort.utils.logger:<Response [400]>\n",
      "ERROR:micromort.utils.logger:<Response [404]>\n",
      "ERROR:micromort.utils.logger:<Response [400]>\n",
      "ERROR:micromort.utils.logger:<Response [400]>\n",
      "ERROR:micromort.utils.logger:<Response [404]>\n",
      "ERROR:micromort.utils.logger:<Response [404]>\n",
      "ERROR:micromort.utils.logger:<Response [404]>\n",
      "ERROR:micromort.utils.logger:<Response [404]>\n"
     ]
    },
    {
     "name": "stdout",
     "output_type": "stream",
     "text": [
      "291000\n",
      "292000\n",
      "293000\n",
      "294000\n",
      "295000\n",
      "296000\n",
      "297000\n"
     ]
    },
    {
     "name": "stderr",
     "output_type": "stream",
     "text": [
      "ERROR:micromort.utils.logger:<Response [404]>\n"
     ]
    },
    {
     "name": "stdout",
     "output_type": "stream",
     "text": [
      "298000\n"
     ]
    },
    {
     "name": "stderr",
     "output_type": "stream",
     "text": [
      "ERROR:micromort.utils.logger:<Response [404]>\n"
     ]
    },
    {
     "name": "stdout",
     "output_type": "stream",
     "text": [
      "299000\n"
     ]
    },
    {
     "name": "stderr",
     "output_type": "stream",
     "text": [
      "ERROR:micromort.utils.logger:<Response [404]>\n",
      "ERROR:micromort.utils.logger:<Response [404]>\n"
     ]
    },
    {
     "name": "stdout",
     "output_type": "stream",
     "text": [
      "300000\n"
     ]
    },
    {
     "name": "stderr",
     "output_type": "stream",
     "text": [
      "ERROR:micromort.utils.logger:<Response [404]>\n",
      "ERROR:micromort.utils.logger:<Response [404]>\n"
     ]
    },
    {
     "name": "stdout",
     "output_type": "stream",
     "text": [
      "301000\n"
     ]
    },
    {
     "name": "stderr",
     "output_type": "stream",
     "text": [
      "ERROR:micromort.utils.logger:<Response [404]>\n"
     ]
    },
    {
     "name": "stdout",
     "output_type": "stream",
     "text": [
      "302000\n"
     ]
    },
    {
     "name": "stderr",
     "output_type": "stream",
     "text": [
      "ERROR:micromort.utils.logger:<Response [400]>\n",
      "ERROR:micromort.utils.logger:<Response [404]>\n"
     ]
    },
    {
     "name": "stdout",
     "output_type": "stream",
     "text": [
      "303000\n"
     ]
    },
    {
     "name": "stderr",
     "output_type": "stream",
     "text": [
      "ERROR:micromort.utils.logger:<Response [404]>\n",
      "ERROR:micromort.utils.logger:<Response [404]>\n"
     ]
    },
    {
     "name": "stdout",
     "output_type": "stream",
     "text": [
      "304000\n"
     ]
    },
    {
     "name": "stderr",
     "output_type": "stream",
     "text": [
      "ERROR:micromort.utils.logger:<Response [404]>\n"
     ]
    }
   ],
   "source": [
    "counter = 0\n",
    "urls = []\n",
    "for d in mongoClient.find():\n",
    "    urls.append(d[\"url\"])\n",
    "    counter = counter+1\n",
    "    if counter%25 == 0:\n",
    "        fb_counts = sharegetter.get_fb_shares(urls)\n",
    "        urls = []\n",
    "        if fb_counts == -1:\n",
    "            continue\n",
    "        for row in fb_counts:\n",
    "            url = row[\"url\"]\n",
    "            countType = row[\"type\"]\n",
    "            count = row[\"count\"]\n",
    "            storeInMongo(mongoClient, url, countType, count)\n",
    "    if counter%1000 == 0:\n",
    "        print counter"
   ]
  },
  {
   "cell_type": "code",
   "execution_count": null,
   "metadata": {},
   "outputs": [],
   "source": []
  }
 ],
 "metadata": {
  "kernelspec": {
   "display_name": "Python 2",
   "language": "python",
   "name": "python2"
  },
  "language_info": {
   "codemirror_mode": {
    "name": "ipython",
    "version": 2
   },
   "file_extension": ".py",
   "mimetype": "text/x-python",
   "name": "python",
   "nbconvert_exporter": "python",
   "pygments_lexer": "ipython2",
   "version": "2.7.12"
  }
 },
 "nbformat": 4,
 "nbformat_minor": 2
}
