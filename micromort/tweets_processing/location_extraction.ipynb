{
 "cells": [
  {
   "cell_type": "code",
   "execution_count": 1,
   "metadata": {},
   "outputs": [],
   "source": [
    "import json\n",
    "from micromort.data_stores.mongodb import getConnection\n",
    "import carmen\n",
    "from micromort.data_stores.mysql import db, cursor\n",
    "from multiprocessing.dummy import Pool as ThreadPool"
   ]
  },
  {
   "cell_type": "code",
   "execution_count": 2,
   "metadata": {},
   "outputs": [],
   "source": [
    "from micromort.newstweets.location_fetcher import Location_fetcher"
   ]
  },
  {
   "cell_type": "code",
   "execution_count": 3,
   "metadata": {},
   "outputs": [
    {
     "name": "stderr",
     "output_type": "stream",
     "text": [
      "/home/mannu/code/work/micromort/virtualenv/lib/python2.7/site-packages/carmen/resolvers/profile.py:42: UserWarning: Duplicate location name \"amman  jordan\"\n",
      "  warnings.warn('Duplicate location name \"%s\"' % alias)\n",
      "/home/mannu/code/work/micromort/virtualenv/lib/python2.7/site-packages/carmen/resolvers/profile.py:42: UserWarning: Duplicate location name \"amman jordan\"\n",
      "  warnings.warn('Duplicate location name \"%s\"' % alias)\n",
      "/home/mannu/code/work/micromort/virtualenv/lib/python2.7/site-packages/carmen/resolvers/profile.py:42: UserWarning: Duplicate location name \"st joseph county united states\"\n",
      "  warnings.warn('Duplicate location name \"%s\"' % alias)\n",
      "/home/mannu/code/work/micromort/virtualenv/lib/python2.7/site-packages/carmen/resolvers/profile.py:42: UserWarning: Duplicate location name \"st tammany parish united states\"\n",
      "  warnings.warn('Duplicate location name \"%s\"' % alias)\n"
     ]
    }
   ],
   "source": [
    "l = Location_fetcher()"
   ]
  },
  {
   "cell_type": "code",
   "execution_count": 4,
   "metadata": {},
   "outputs": [
    {
     "data": {
      "text/plain": [
       "['__doc__', '__init__', '__module__', 'get_location', 'resolver']"
      ]
     },
     "execution_count": 4,
     "metadata": {},
     "output_type": "execute_result"
    }
   ],
   "source": [
    "dir(l)"
   ]
  },
  {
   "cell_type": "code",
   "execution_count": 10,
   "metadata": {},
   "outputs": [],
   "source": [
    "mongo_db_name = \"micromort\"\n",
    "mongo_collection_name = \"newstweets_old\"\n",
    "mongoClient = getConnection(mongo_db_name, mongo_collection_name)\n",
    "\n",
    "resolver = carmen.get_resolver()\n",
    "resolver.load_locations()"
   ]
  },
  {
   "cell_type": "code",
   "execution_count": 3,
   "metadata": {},
   "outputs": [],
   "source": [
    "def insertInMysql(tweet_location, tweet_id):\n",
    "    cursor.execute(\n",
    "                \"\"\"INSERT ignore INTO newsTweets_location(twitter_url, tweet_id, latitude, longitude, country, state, city, \n",
    "                            aliases, resolution_method, known) values\n",
    "                \"\"\",  [tweet_location[\"twitter_url\"], tweet_id, tweet_location[\"latitude\"], \n",
    "                       tweet_location[\"longitude\"], tweet_location[\"country\"], tweet_location[\"state\"], \n",
    "                       tweet_location[\"city\"], ''.join(tweet_location[\"aliases\"]), tweet_location[\"resolution_method\"], \n",
    "                       tweet_location[\"known\"]])\n",
    "    \n",
    "    "
   ]
  },
  {
   "cell_type": "code",
   "execution_count": 6,
   "metadata": {},
   "outputs": [
    {
     "ename": "NameError",
     "evalue": "name 'location_result' is not defined",
     "output_type": "error",
     "traceback": [
      "\u001b[0;31m---------------------------------------------------------------------------\u001b[0m",
      "\u001b[0;31mNameError\u001b[0m                                 Traceback (most recent call last)",
      "\u001b[0;32m<ipython-input-6-4ea621d3e161>\u001b[0m in \u001b[0;36m<module>\u001b[0;34m()\u001b[0m\n\u001b[0;32m----> 1\u001b[0;31m \u001b[0mlocation_result_arr\u001b[0m \u001b[0;34m=\u001b[0m \u001b[0mlist\u001b[0m\u001b[0;34m(\u001b[0m\u001b[0mlocation_result\u001b[0m\u001b[0;34m)\u001b[0m\u001b[0;34m\u001b[0m\u001b[0m\n\u001b[0m",
      "\u001b[0;31mNameError\u001b[0m: name 'location_result' is not defined"
     ]
    }
   ],
   "source": [
    "location_result_arr = list(location_result)"
   ]
  },
  {
   "cell_type": "code",
   "execution_count": 6,
   "metadata": {},
   "outputs": [
    {
     "data": {
      "text/plain": [
       "4068218"
      ]
     },
     "execution_count": 6,
     "metadata": {},
     "output_type": "execute_result"
    }
   ],
   "source": [
    "len(location_result_arr)"
   ]
  },
  {
   "cell_type": "code",
   "execution_count": 7,
   "metadata": {},
   "outputs": [
    {
     "ename": "NameError",
     "evalue": "name 'location_result_arr' is not defined",
     "output_type": "error",
     "traceback": [
      "\u001b[0;31m---------------------------------------------------------------------------\u001b[0m",
      "\u001b[0;31mNameError\u001b[0m                                 Traceback (most recent call last)",
      "\u001b[0;32m<ipython-input-7-338fbd547c23>\u001b[0m in \u001b[0;36m<module>\u001b[0;34m()\u001b[0m\n\u001b[1;32m      1\u001b[0m \u001b[0mcount\u001b[0m\u001b[0;34m=\u001b[0m\u001b[0;36m0\u001b[0m\u001b[0;34m\u001b[0m\u001b[0m\n\u001b[0;32m----> 2\u001b[0;31m \u001b[0;32mfor\u001b[0m \u001b[0mrow\u001b[0m \u001b[0;32min\u001b[0m \u001b[0mlocation_result_arr\u001b[0m\u001b[0;34m:\u001b[0m\u001b[0;34m\u001b[0m\u001b[0m\n\u001b[0m\u001b[1;32m      3\u001b[0m     \u001b[0mcount\u001b[0m\u001b[0;34m=\u001b[0m\u001b[0mcount\u001b[0m\u001b[0;34m+\u001b[0m\u001b[0;36m1\u001b[0m\u001b[0;34m\u001b[0m\u001b[0m\n\u001b[1;32m      4\u001b[0m     \u001b[0;32mif\u001b[0m \u001b[0mcount\u001b[0m\u001b[0;34m%\u001b[0m\u001b[0;36m1000\u001b[0m \u001b[0;34m==\u001b[0m \u001b[0;36m0\u001b[0m\u001b[0;34m:\u001b[0m\u001b[0;34m\u001b[0m\u001b[0m\n\u001b[1;32m      5\u001b[0m         \u001b[0;32mprint\u001b[0m \u001b[0mcount\u001b[0m\u001b[0;34m\u001b[0m\u001b[0m\n",
      "\u001b[0;31mNameError\u001b[0m: name 'location_result_arr' is not defined"
     ]
    }
   ],
   "source": [
    "count=0\n",
    "for row in location_result_arr:\n",
    "    count=count+1\n",
    "    if count%1000 == 0:\n",
    "        print count\n",
    "        break\n",
    "    if row == 1:\n",
    "        continue\n",
    "    insertInMysql(row[0],row[1])"
   ]
  },
  {
   "cell_type": "code",
   "execution_count": 18,
   "metadata": {},
   "outputs": [
    {
     "name": "stdout",
     "output_type": "stream",
     "text": [
      "None\n",
      "(False, Location(country=u'United States', known=True, id=2645))\n",
      "United States\n"
     ]
    }
   ],
   "source": [
    "for doc in mongoClient.find():\n",
    "    try:\n",
    "        location = l.get_location(doc)\n",
    "        print location\n",
    "        if location is not None:\n",
    "            tweet = location[1].__dict__\n",
    "            tweet[\"tweet_id\"] = doc[\"id\"]\n",
    "            print tweet[\"country\"]\n",
    "            if \"_id_\" in tweet:\n",
    "                del tweet._id_\n",
    "            #insertInMysql(location[1].__dict__, doc[\"id\"])\n",
    "            break\n",
    "    except Exception as ex:\n",
    "        print ex\n",
    "        print doc[\"id\"]\n",
    "    "
   ]
  },
  {
   "cell_type": "code",
   "execution_count": null,
   "metadata": {},
   "outputs": [],
   "source": []
  }
 ],
 "metadata": {
  "kernelspec": {
   "display_name": "Python 2",
   "language": "python",
   "name": "python2"
  },
  "language_info": {
   "codemirror_mode": {
    "name": "ipython",
    "version": 2
   },
   "file_extension": ".py",
   "mimetype": "text/x-python",
   "name": "python",
   "nbconvert_exporter": "python",
   "pygments_lexer": "ipython2",
   "version": "2.7.12"
  }
 },
 "nbformat": 4,
 "nbformat_minor": 2
}
