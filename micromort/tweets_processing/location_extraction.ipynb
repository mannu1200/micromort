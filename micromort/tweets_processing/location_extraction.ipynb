{
 "cells": [
  {
   "cell_type": "code",
   "execution_count": 1,
   "metadata": {},
   "outputs": [],
   "source": [
    "import json\n",
    "from micromort.data_stores.mongodb import getConnection\n",
    "import carmen\n",
    "from micromort.data_stores.mysql import db, cursor"
   ]
  },
  {
   "cell_type": "code",
   "execution_count": 2,
   "metadata": {},
   "outputs": [
    {
     "name": "stderr",
     "output_type": "stream",
     "text": [
      "/usr/local/lib/python2.7/dist-packages/carmen-0.0.4-py2.7.egg/carmen/resolvers/profile.py:42: UserWarning: Duplicate location name \"amman  jordan\"\n",
      "/usr/local/lib/python2.7/dist-packages/carmen-0.0.4-py2.7.egg/carmen/resolvers/profile.py:42: UserWarning: Duplicate location name \"amman jordan\"\n",
      "/usr/local/lib/python2.7/dist-packages/carmen-0.0.4-py2.7.egg/carmen/resolvers/profile.py:42: UserWarning: Duplicate location name \"st joseph county united states\"\n",
      "/usr/local/lib/python2.7/dist-packages/carmen-0.0.4-py2.7.egg/carmen/resolvers/profile.py:42: UserWarning: Duplicate location name \"st tammany parish united states\"\n"
     ]
    }
   ],
   "source": [
    "mongo_db_name = \"micromort\"\n",
    "mongo_collection_name = \"newstweets\"\n",
    "mongoClient = getConnection(mongo_db_name, mongo_collection_name)\n",
    "\n",
    "resolver = carmen.get_resolver()\n",
    "resolver.load_locations()"
   ]
  },
  {
   "cell_type": "code",
   "execution_count": 3,
   "metadata": {},
   "outputs": [],
   "source": [
    "def insertInMysql(tweet_location, tweet_id):\n",
    "    cursor.execute(\n",
    "                \"\"\"INSERT INTO newsTweets_location(twitter_url, tweet_id, latitude, longitude, country, state, city, \n",
    "                            aliases, resolution_method, known) values(%s, %s, %s, %s, %s, %s, %s, %s, %s, %s)\n",
    "                \"\"\",  [tweet_location[\"twitter_url\"], tweet_id, tweet_location[\"latitude\"], \n",
    "                       tweet_location[\"longitude\"], tweet_location[\"country\"], tweet_location[\"state\"], \n",
    "                       tweet_location[\"city\"], ''.join(tweet_location[\"aliases\"]), tweet_location[\"resolution_method\"], \n",
    "                       tweet_location[\"known\"]])"
   ]
  },
  {
   "cell_type": "code",
   "execution_count": 4,
   "metadata": {},
   "outputs": [
    {
     "name": "stderr",
     "output_type": "stream",
     "text": [
      "/usr/local/lib/python2.7/dist-packages/carmen-0.0.4-py2.7.egg/carmen/resolvers/place.py:49: UserWarning: Tweet has Place with no country\n"
     ]
    }
   ],
   "source": [
    "for doc in mongoClient.find():\n",
    "    try:\n",
    "        location = resolver.resolve_tweet(doc)\n",
    "        if location is not None:\n",
    "            tweet = location[1].__dict__\n",
    "            tweet[\"tweet_id\"] = doc[\"id\"]\n",
    "#             tweet[\"user_location\"] = doc[\"user\"][\"location\"]\n",
    "#             tweet[\"place\"]  = doc[\"place\"]\n",
    "#             tweet[\"coordinates\"] = doc[\"coordinates\"]\n",
    "            if \"_id_\" in tweet:\n",
    "                del tweet._id_\n",
    "            insertInMysql(location[1].__dict__, doc[\"id\"])\n",
    "    except Exception as ex:\n",
    "        print ex\n",
    "        print doc[\"id\"]"
   ]
  },
  {
   "cell_type": "code",
   "execution_count": null,
   "metadata": {},
   "outputs": [],
   "source": []
  }
 ],
 "metadata": {
  "kernelspec": {
   "display_name": "Python 2",
   "language": "python",
   "name": "python2"
  },
  "language_info": {
   "codemirror_mode": {
    "name": "ipython",
    "version": 2
   },
   "file_extension": ".py",
   "mimetype": "text/x-python",
   "name": "python",
   "nbconvert_exporter": "python",
   "pygments_lexer": "ipython2",
   "version": "2.7.12"
  }
 },
 "nbformat": 4,
 "nbformat_minor": 2
}
