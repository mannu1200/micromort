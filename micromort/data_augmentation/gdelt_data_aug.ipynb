{
 "cells": [
  {
   "cell_type": "code",
   "execution_count": 21,
   "metadata": {},
   "outputs": [],
   "source": [
    "import pandas as pd\n",
    "import numpy as np\n",
    "pd.options.display.max_colwidth = 256"
   ]
  },
  {
   "cell_type": "code",
   "execution_count": 10,
   "metadata": {},
   "outputs": [],
   "source": [
    "annotated_data = pd.read_csv(\"./urls.csv\",delimiter='\\t')\n",
    "gdelt_data = pd.read_csv(\"./dataAug.csv\", delimiter='\\t')"
   ]
  },
  {
   "cell_type": "code",
   "execution_count": 7,
   "metadata": {},
   "outputs": [
    {
     "data": {
      "text/html": [
       "<div>\n",
       "<style scoped>\n",
       "    .dataframe tbody tr th:only-of-type {\n",
       "        vertical-align: middle;\n",
       "    }\n",
       "\n",
       "    .dataframe tbody tr th {\n",
       "        vertical-align: top;\n",
       "    }\n",
       "\n",
       "    .dataframe thead th {\n",
       "        text-align: right;\n",
       "    }\n",
       "</style>\n",
       "<table border=\"1\" class=\"dataframe\">\n",
       "  <thead>\n",
       "    <tr style=\"text-align: right;\">\n",
       "      <th></th>\n",
       "      <th>GlobalEventID</th>\n",
       "      <th>MentionIdentifier</th>\n",
       "    </tr>\n",
       "  </thead>\n",
       "  <tbody>\n",
       "    <tr>\n",
       "      <th>0</th>\n",
       "      <td>719412511</td>\n",
       "      <td>http://www.straitstimes.com/world/middle-east/...</td>\n",
       "    </tr>\n",
       "    <tr>\n",
       "      <th>1</th>\n",
       "      <td>723241330</td>\n",
       "      <td>http://www.straitstimes.com/asia/east-asia/chi...</td>\n",
       "    </tr>\n",
       "    <tr>\n",
       "      <th>2</th>\n",
       "      <td>723245734</td>\n",
       "      <td>http://www.straitstimes.com/asia/east-asia/chi...</td>\n",
       "    </tr>\n",
       "    <tr>\n",
       "      <th>3</th>\n",
       "      <td>723314088</td>\n",
       "      <td>http://www.straitstimes.com/asia/east-asia/chi...</td>\n",
       "    </tr>\n",
       "    <tr>\n",
       "      <th>4</th>\n",
       "      <td>723234988</td>\n",
       "      <td>http://www.straitstimes.com/asia/east-asia/chi...</td>\n",
       "    </tr>\n",
       "  </tbody>\n",
       "</table>\n",
       "</div>"
      ],
      "text/plain": [
       "   GlobalEventID                                  MentionIdentifier\n",
       "0      719412511  http://www.straitstimes.com/world/middle-east/...\n",
       "1      723241330  http://www.straitstimes.com/asia/east-asia/chi...\n",
       "2      723245734  http://www.straitstimes.com/asia/east-asia/chi...\n",
       "3      723314088  http://www.straitstimes.com/asia/east-asia/chi...\n",
       "4      723234988  http://www.straitstimes.com/asia/east-asia/chi..."
      ]
     },
     "execution_count": 7,
     "metadata": {},
     "output_type": "execute_result"
    }
   ],
   "source": [
    "annotated_data.head()"
   ]
  },
  {
   "cell_type": "code",
   "execution_count": 11,
   "metadata": {},
   "outputs": [
    {
     "data": {
      "text/html": [
       "<div>\n",
       "<style scoped>\n",
       "    .dataframe tbody tr th:only-of-type {\n",
       "        vertical-align: middle;\n",
       "    }\n",
       "\n",
       "    .dataframe tbody tr th {\n",
       "        vertical-align: top;\n",
       "    }\n",
       "\n",
       "    .dataframe thead th {\n",
       "        text-align: right;\n",
       "    }\n",
       "</style>\n",
       "<table border=\"1\" class=\"dataframe\">\n",
       "  <thead>\n",
       "    <tr style=\"text-align: right;\">\n",
       "      <th></th>\n",
       "      <th>GlobalEventID</th>\n",
       "      <th>MentionIdentifier</th>\n",
       "    </tr>\n",
       "  </thead>\n",
       "  <tbody>\n",
       "    <tr>\n",
       "      <th>0</th>\n",
       "      <td>719412511</td>\n",
       "      <td>https://kaplanherald.com/2018/01/02/us-vetoes-...</td>\n",
       "    </tr>\n",
       "    <tr>\n",
       "      <th>1</th>\n",
       "      <td>719412511</td>\n",
       "      <td>http://beta.latimes.com/world/middleeast/la-fg...</td>\n",
       "    </tr>\n",
       "    <tr>\n",
       "      <th>2</th>\n",
       "      <td>719412511</td>\n",
       "      <td>https://www.salon.com/2018/01/03/americas-impe...</td>\n",
       "    </tr>\n",
       "    <tr>\n",
       "      <th>3</th>\n",
       "      <td>719412511</td>\n",
       "      <td>http://www.deccanherald.com/content/651598/ind...</td>\n",
       "    </tr>\n",
       "    <tr>\n",
       "      <th>4</th>\n",
       "      <td>719412511</td>\n",
       "      <td>http://www.straitstimes.com/world/middle-east/...</td>\n",
       "    </tr>\n",
       "  </tbody>\n",
       "</table>\n",
       "</div>"
      ],
      "text/plain": [
       "   GlobalEventID                                  MentionIdentifier\n",
       "0      719412511  https://kaplanherald.com/2018/01/02/us-vetoes-...\n",
       "1      719412511  http://beta.latimes.com/world/middleeast/la-fg...\n",
       "2      719412511  https://www.salon.com/2018/01/03/americas-impe...\n",
       "3      719412511  http://www.deccanherald.com/content/651598/ind...\n",
       "4      719412511  http://www.straitstimes.com/world/middle-east/..."
      ]
     },
     "execution_count": 11,
     "metadata": {},
     "output_type": "execute_result"
    }
   ],
   "source": [
    "gdelt_data.head()"
   ]
  },
  {
   "cell_type": "code",
   "execution_count": 23,
   "metadata": {},
   "outputs": [
    {
     "data": {
      "text/plain": [
       "5                                    http://www.theday.com/op-edguest-opinions/20180117/time-to-put-kim-jong-un-back-on-his-heels\n",
       "6                              http://www.straitstimes.com/asia/east-asia/chinas-metoo-movement-signals-shift-in-gender-attitudes\n",
       "7    http://winnipegsun.com/opinion/columnists/cruz-time-to-put-kim-jong-un-on-his-heels/wcm/7c1a7e4b-9ac5-49c2-8392-259df43a496d\n",
       "Name: MentionIdentifier, dtype: object"
      ]
     },
     "execution_count": 23,
     "metadata": {},
     "output_type": "execute_result"
    }
   ],
   "source": [
    "gdelt_data[gdelt_data.GlobalEventID == 723241330].MentionIdentifier"
   ]
  },
  {
   "cell_type": "code",
   "execution_count": null,
   "metadata": {},
   "outputs": [],
   "source": []
  }
 ],
 "metadata": {
  "kernelspec": {
   "display_name": "Python 2",
   "language": "python",
   "name": "python2"
  },
  "language_info": {
   "codemirror_mode": {
    "name": "ipython",
    "version": 2
   },
   "file_extension": ".py",
   "mimetype": "text/x-python",
   "name": "python",
   "nbconvert_exporter": "python",
   "pygments_lexer": "ipython2",
   "version": "2.7.12"
  }
 },
 "nbformat": 4,
 "nbformat_minor": 2
}
