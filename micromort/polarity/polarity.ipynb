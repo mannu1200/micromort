{
 "cells": [
  {
   "cell_type": "code",
   "execution_count": 114,
   "metadata": {},
   "outputs": [],
   "source": [
    "import numpy as np\n",
    "import pandas as pd\n",
    "from textblob import TextBlob\n",
    "import sklearn\n",
    "from pycorenlp import StanfordCoreNLP\n",
    "from micromort.utils.classification_plotter import plot_classification_report\n",
    "import sys\n",
    "reload(sys)\n",
    "sys.setdefaultencoding('utf8')"
   ]
  },
  {
   "cell_type": "code",
   "execution_count": 65,
   "metadata": {},
   "outputs": [],
   "source": [
    "data_dump = pd.read_csv(\"./annotator_data_dump_with_polarity\", delimiter=\"\\t\")\n",
    "data_dump = data_dump[data_dump.polarity != 9].reset_index(drop=True)"
   ]
  },
  {
   "cell_type": "code",
   "execution_count": 66,
   "metadata": {},
   "outputs": [
    {
     "data": {
      "text/html": [
       "<div>\n",
       "<style scoped>\n",
       "    .dataframe tbody tr th:only-of-type {\n",
       "        vertical-align: middle;\n",
       "    }\n",
       "\n",
       "    .dataframe tbody tr th {\n",
       "        vertical-align: top;\n",
       "    }\n",
       "\n",
       "    .dataframe thead th {\n",
       "        text-align: right;\n",
       "    }\n",
       "</style>\n",
       "<table border=\"1\" class=\"dataframe\">\n",
       "  <thead>\n",
       "    <tr style=\"text-align: right;\">\n",
       "      <th></th>\n",
       "      <th>url</th>\n",
       "      <th>summary</th>\n",
       "      <th>category</th>\n",
       "      <th>title</th>\n",
       "      <th>polarity</th>\n",
       "      <th>e</th>\n",
       "    </tr>\n",
       "  </thead>\n",
       "  <tbody>\n",
       "    <tr>\n",
       "      <th>0</th>\n",
       "      <td>http://www.straitstimes.com/world/united-state...</td>\n",
       "      <td>WASHINGTON (REUTERS) - Russian government-back...</td>\n",
       "      <td>92</td>\n",
       "      <td>Russian hackers said to have stolen US cyber s...</td>\n",
       "      <td>-1</td>\n",
       "      <td>0.0</td>\n",
       "    </tr>\n",
       "    <tr>\n",
       "      <th>1</th>\n",
       "      <td>http://www.straitstimes.com/world/united-state...</td>\n",
       "      <td>WASHINGTON (REUTERS) - Russian government-back...</td>\n",
       "      <td>94</td>\n",
       "      <td>Russian hackers said to have stolen US cyber s...</td>\n",
       "      <td>-1</td>\n",
       "      <td>0.0</td>\n",
       "    </tr>\n",
       "    <tr>\n",
       "      <th>2</th>\n",
       "      <td>http://www.channelnewsasia.com/news/health/to-...</td>\n",
       "      <td>(Reuters Health) - The best way to get teens t...</td>\n",
       "      <td>99</td>\n",
       "      <td>To grow teen athletes, let kids try lots of sp...</td>\n",
       "      <td>0</td>\n",
       "      <td>0.0</td>\n",
       "    </tr>\n",
       "    <tr>\n",
       "      <th>3</th>\n",
       "      <td>http://www.straitstimes.com/asia/se-asia/prote...</td>\n",
       "      <td>JAKARTA/KUALA LUMPUR - Muslim protesters ralli...</td>\n",
       "      <td>94</td>\n",
       "      <td>Protests in Asia against Trump's decision on J...</td>\n",
       "      <td>-1</td>\n",
       "      <td>0.0</td>\n",
       "    </tr>\n",
       "    <tr>\n",
       "      <th>4</th>\n",
       "      <td>http://www.straitstimes.com/asia/se-asia/prote...</td>\n",
       "      <td>JAKARTA/KUALA LUMPUR - Muslim protesters ralli...</td>\n",
       "      <td>98</td>\n",
       "      <td>Protests in Asia against Trump's decision on J...</td>\n",
       "      <td>-1</td>\n",
       "      <td>0.0</td>\n",
       "    </tr>\n",
       "  </tbody>\n",
       "</table>\n",
       "</div>"
      ],
      "text/plain": [
       "                                                 url  \\\n",
       "0  http://www.straitstimes.com/world/united-state...   \n",
       "1  http://www.straitstimes.com/world/united-state...   \n",
       "2  http://www.channelnewsasia.com/news/health/to-...   \n",
       "3  http://www.straitstimes.com/asia/se-asia/prote...   \n",
       "4  http://www.straitstimes.com/asia/se-asia/prote...   \n",
       "\n",
       "                                             summary  category  \\\n",
       "0  WASHINGTON (REUTERS) - Russian government-back...        92   \n",
       "1  WASHINGTON (REUTERS) - Russian government-back...        94   \n",
       "2  (Reuters Health) - The best way to get teens t...        99   \n",
       "3  JAKARTA/KUALA LUMPUR - Muslim protesters ralli...        94   \n",
       "4  JAKARTA/KUALA LUMPUR - Muslim protesters ralli...        98   \n",
       "\n",
       "                                               title  polarity    e  \n",
       "0  Russian hackers said to have stolen US cyber s...        -1  0.0  \n",
       "1  Russian hackers said to have stolen US cyber s...        -1  0.0  \n",
       "2  To grow teen athletes, let kids try lots of sp...         0  0.0  \n",
       "3  Protests in Asia against Trump's decision on J...        -1  0.0  \n",
       "4  Protests in Asia against Trump's decision on J...        -1  0.0  "
      ]
     },
     "execution_count": 66,
     "metadata": {},
     "output_type": "execute_result"
    }
   ],
   "source": [
    "data_dump['e'] = pd.Series(np.zeros(data_dump.shape[0]), index=data_dump.index)\n",
    "data_dump.head()"
   ]
  },
  {
   "cell_type": "code",
   "execution_count": 67,
   "metadata": {},
   "outputs": [],
   "source": [
    "for index, row in data_dump.iterrows():\n",
    "    data = row[\"title\"]\n",
    "    blob = TextBlob(data.decode('utf-8').strip())\n",
    "    if (blob.sentiment.polarity < .1 and blob.sentiment.polarity > -.1):\n",
    "        data_dump[\"e\"].values[index] = 0\n",
    "    elif (blob.sentiment.polarity > .1):\n",
    "        data_dump[\"e\"].values[index] = 1\n",
    "    else: \n",
    "        data_dump[\"e\"].values[index] = -1"
   ]
  },
  {
   "cell_type": "code",
   "execution_count": 73,
   "metadata": {},
   "outputs": [
    {
     "data": {
      "text/plain": [
       "0.30082358040745555"
      ]
     },
     "execution_count": 73,
     "metadata": {},
     "output_type": "execute_result"
    }
   ],
   "source": [
    "sklearn.metrics.accuracy_score(data_dump[\"e\"].values, data_dump[\"polarity\"].values)"
   ]
  },
  {
   "cell_type": "code",
   "execution_count": 115,
   "metadata": {},
   "outputs": [
    {
     "data": {
      "image/png": "[encoded data removed]",
      "text/plain": [
       "<matplotlib.figure.Figure at 0x7fdee9fee850>"
      ]
     },
     "metadata": {},
     "output_type": "display_data"
    }
   ],
   "source": [
    "plot_classification_report(sklearn.metrics.classification_report(data_dump[\"e\"].values, data_dump[\"polarity\"].values, target_names=[\"negative\", \"neutral\", \"pos\"]))"
   ]
  },
  {
   "cell_type": "code",
   "execution_count": 135,
   "metadata": {},
   "outputs": [],
   "source": [
    "nlp = StanfordCoreNLP('http://localhost:9000')\n",
    "def get_sentiment(x):\n",
    "    res = nlp.annotate(x,\n",
    "                       properties={\n",
    "                           'annotators': 'sentiment',\n",
    "                           'outputFormat': 'json'\n",
    "                       })\n",
    "    try:\n",
    "        return res[\"sentences\"][0][\"sentiment\"]\n",
    "    except Exception:\n",
    "        print Exception\n",
    "        return \"\""
   ]
  },
  {
   "cell_type": "code",
   "execution_count": null,
   "metadata": {},
   "outputs": [],
   "source": [
    "for index, row in data_dump.iterrows():\n",
    "    data = row[\"summary\"].encode('utf-8').strip()\n",
    "    \n",
    "    sentiment = get_sentiment(data)\n",
    "    if (sentiment == \"Neutral\"):\n",
    "        data_dump[\"e\"].values[index] = 0\n",
    "    elif (sentiment == \"Positive\"):\n",
    "        data_dump[\"e\"].values[index] = 1\n",
    "    else: \n",
    "        data_dump[\"e\"].values[index] = -1"
   ]
  },
  {
   "cell_type": "code",
   "execution_count": 129,
   "metadata": {},
   "outputs": [
    {
     "data": {
      "text/plain": [
       "0.49111400086692675"
      ]
     },
     "execution_count": 129,
     "metadata": {},
     "output_type": "execute_result"
    }
   ],
   "source": [
    "sklearn.metrics.accuracy_score(data_dump[\"e\"].values, data_dump[\"polarity\"].values)"
   ]
  },
  {
   "cell_type": "code",
   "execution_count": 130,
   "metadata": {},
   "outputs": [
    {
     "data": {
      "image/png": "[encoded data removed]",
      "text/plain": [
       "<matplotlib.figure.Figure at 0x7fdee7f40850>"
      ]
     },
     "metadata": {},
     "output_type": "display_data"
    }
   ],
   "source": [
    "plot_classification_report(sklearn.metrics.classification_report(data_dump[\"e\"].values, data_dump[\"polarity\"].values, target_names=[\"negative\", \"neutral\", \"pos\"]))"
   ]
  },
  {
   "cell_type": "code",
   "execution_count": null,
   "metadata": {},
   "outputs": [],
   "source": []
  }
 ],
 "metadata": {
  "kernelspec": {
   "display_name": "Python 2",
   "language": "python",
   "name": "python2"
  },
  "language_info": {
   "codemirror_mode": {
    "name": "ipython",
    "version": 2
   },
   "file_extension": ".py",
   "mimetype": "text/x-python",
   "name": "python",
   "nbconvert_exporter": "python",
   "pygments_lexer": "ipython2",
   "version": "2.7.12"
  }
 },
 "nbformat": 4,
 "nbformat_minor": 2
}
