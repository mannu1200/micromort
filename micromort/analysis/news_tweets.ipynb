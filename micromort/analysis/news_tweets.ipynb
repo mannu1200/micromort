{
 "cells": [
  {
   "cell_type": "code",
   "execution_count": 3,
   "metadata": {},
   "outputs": [],
   "source": [
    "import pandas as pd\n",
    "import folium\n",
    "import pycountry\n",
    "import numpy as np\n",
    "import matplotlib.pyplot as plt\n",
    "import matplotlib as mpl\n",
    "import os"
   ]
  },
  {
   "cell_type": "markdown",
   "metadata": {},
   "source": [
    "### Number of tweets = 4852622\n",
    "### Tweets with URLS = 4326933 (~90%) (including garbage URLs) \n",
    "\n",
    "### Unique URLs = 359920\n",
    "### Parsable unique URLs = 304115 (~85%)\n",
    "\n",
    "### Tweets with countires = 2134821\n",
    "### Tweets with states = 1512012\n",
    "\n",
    "### Tweets with countries + negative + worry (non not_applicable) =  501106\n",
    "### Tweet with states + negative + worry =  359475 "
   ]
  },
  {
   "cell_type": "markdown",
   "metadata": {},
   "source": [
    "### Asian states with more than 1000 tweets:\n",
    "1. Andhra Pradesh\n",
    "2. Central Singapore\n",
    "3. Delhi       \n",
    "4. Karnataka\n",
    "5. Madhya Pradesh       \n",
    "6. Maharashtra\n",
    "7. National Capital Region\n",
    "8. Punjab\n",
    "9. Rajasthan       \n",
    "10. Tamil Nadu\n",
    "11. Tokyo Prefecture\n",
    "12. West Bengal\n",
    "13. Wilayah Persekutuan"
   ]
  },
  {
   "cell_type": "markdown",
   "metadata": {},
   "source": [
    "### Asian Countries with more than 1000 tweets:\n",
    "1. Australia, 13481\n",
    "2. Belgium, 1118\n",
    "3. Canada, 13396\n",
    "4. Colombia, 2358\n",
    "5. France, 3776\n",
    "6. Germany, 2863\n",
    "7. India, 97448\n",
    "8. Indonesia, 2172\n",
    "9. Ireland, 2860\n",
    "10. Italy, 1379\n",
    "11. Japan, 3502\n",
    "12. Malaysia, 7199\n",
    "13. Netherlands, 1168\n",
    "14. Norway, 1726\n",
    "15. Pakistan, 4092\n",
    "16. Philippines, 5607\n",
    "17. Singapore, 1571\n",
    "18. South Africa, 1111\n",
    "19. Spain, 3252\n",
    "20. Sweden, 1027\n",
    "21. Thailand, 1604\n",
    "22. United Arab Emirates, 1434\n",
    "23. United Kingdom, 61617\n",
    "24. United States, 241567"
   ]
  }
 ],
 "metadata": {
  "kernelspec": {
   "display_name": "Python 2",
   "language": "python",
   "name": "python2"
  },
  "language_info": {
   "codemirror_mode": {
    "name": "ipython",
    "version": 2
   },
   "file_extension": ".py",
   "mimetype": "text/x-python",
   "name": "python",
   "nbconvert_exporter": "python",
   "pygments_lexer": "ipython2",
   "version": "2.7.12"
  }
 },
 "nbformat": 4,
 "nbformat_minor": 2
}
